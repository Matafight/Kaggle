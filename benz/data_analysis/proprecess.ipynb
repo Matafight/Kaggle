{
 "cells": [
  {
   "cell_type": "code",
   "execution_count": null,
   "metadata": {
    "collapsed": true
   },
   "outputs": [],
   "source": [
    "# load packages\n",
    "import pandas as pd\n",
    "import numpy as np\n",
    "import matplotlib.pyplot as plt\n",
    "import seaborn as sns\n",
    "%matplotlib inline\n",
    "# load data\n",
    "df_train = pd.read_csv('../input/train.csv')\n",
    "df_test=pd.read_csv('../input/test.csv')\n"
   ]
  },
  {
   "cell_type": "code",
   "execution_count": null,
   "metadata": {
    "collapsed": true
   },
   "outputs": [],
   "source": [
    "# distinguish numerical attributes and object attributes and target column\n",
    "dtype_df = df_train.dtypes.reset_index()\n",
    "dtype_df.columns = [\"Count\", \"Column Type\"]\n",
    "summary_dtypes = dtype_df.groupby(\"Column Type\").aggregate('count').reset_index()\n",
    "print(summary_dtypes)\n",
    "\n",
    "\n",
    "target = ['y']\n",
    "columns = df_train.columns\n",
    "num_feats = df_train.dtypes.index[df_train.dtypes!='object']\n",
    "cate_feats = df_train.dtypes.index[df_train.dtypes=='object']\n",
    "num_feats = list(set(num_feats)-set(target))\n",
    "print('numerical features:')\n",
    "print(num_feats)\n",
    "print('categorical features:')\n",
    "print(cate_feats)\n",
    "print('target column:')\n",
    "print(target)"
   ]
  },
  {
   "cell_type": "code",
   "execution_count": null,
   "metadata": {
    "collapsed": true
   },
   "outputs": [],
   "source": [
    "ulimit = 180\n",
    "df_train.loc[df_train[target[0]]>ulimit,target[0]] = ulimit\n",
    "df_train[target[0]] = np.log(df_train[target[0]]+1)"
   ]
  }
 ],
 "metadata": {
  "kernelspec": {
   "display_name": "Python 2",
   "language": "python",
   "name": "python2"
  },
  "language_info": {
   "codemirror_mode": {
    "name": "ipython",
    "version": 2
   },
   "file_extension": ".py",
   "mimetype": "text/x-python",
   "name": "python",
   "nbconvert_exporter": "python",
   "pygments_lexer": "ipython2",
   "version": "2.7.13"
  }
 },
 "nbformat": 4,
 "nbformat_minor": 2
}
