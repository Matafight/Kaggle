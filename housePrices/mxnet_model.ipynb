{
 "cells": [
  {
   "cell_type": "code",
   "execution_count": 2,
   "metadata": {
    "collapsed": true
   },
   "outputs": [],
   "source": [
    "from mxnet import autograd\n",
    "from mxnet import ndarray as nd\n",
    "from mxnet import gluon\n",
    "import pandas as pd\n",
    "import numpy as np\n"
   ]
  },
  {
   "cell_type": "code",
   "execution_count": 3,
   "metadata": {
    "collapsed": true
   },
   "outputs": [],
   "source": [
    "#导入 取了对数的label\n",
    "\n",
    "df_train = pd.read_csv('./input/processed_train_logged.csv')\n",
    "df_test = pd.read_csv('./input/processed_test_logged.csv')\n",
    "\n",
    "#导入没有取对数的label\n",
    "\n",
    "# df_train = pd.read_csv('./input/processed_train_without_log.csv')\n",
    "# df_test = pd.read_csv('./input/processed_test_without_log.csv')"
   ]
  },
  {
   "cell_type": "code",
   "execution_count": 4,
   "metadata": {
    "collapsed": false
   },
   "outputs": [],
   "source": [
    "#处理输入数据\n",
    "target = 'label'\n",
    "feat_data = df_train[df_train.columns[df_train.columns!='label']]\n",
    "feat_names = feat_data.dtypes[feat_data.dtypes!=object].index\n",
    "train_data = nd.array(df_train[feat_names].values)\n",
    "label = nd.array(df_train['label'].values)\n",
    "test_data = nd.array(df_test.values)\n"
   ]
  },
  {
   "cell_type": "code",
   "execution_count": 5,
   "metadata": {
    "collapsed": false
   },
   "outputs": [],
   "source": [
    "def get_rmse_log(net, X_train, y_train):\n",
    "    num_train = X_train.shape[0]\n",
    "    clipped_preds = nd.clip(net(X_train), 1, float('inf'))\n",
    "    return np.sqrt(2 * nd.sum(l2loss(\n",
    "        nd.log(clipped_preds), nd.log(y_train))).asscalar() / num_train)"
   ]
  },
  {
   "cell_type": "code",
   "execution_count": 6,
   "metadata": {
    "collapsed": false
   },
   "outputs": [],
   "source": [
    "#使用gluon内置的dataloader\n",
    "\n",
    "def get_net():\n",
    "    net = gluon.nn.Sequential()\n",
    "    with net.name_scope():\n",
    "        net.add(gluon.nn.Dense(1))\n",
    "    net.initialize()\n",
    "    return net"
   ]
  },
  {
   "cell_type": "code",
   "execution_count": 7,
   "metadata": {
    "collapsed": true
   },
   "outputs": [],
   "source": [
    "%matplotlib inline\n",
    "import matplotlib as mpl\n",
    "mpl.rcParams['figure.dpi']= 120\n",
    "import matplotlib.pyplot as plt"
   ]
  },
  {
   "cell_type": "code",
   "execution_count": null,
   "metadata": {
    "collapsed": true
   },
   "outputs": [],
   "source": []
  },
  {
   "cell_type": "code",
   "execution_count": 8,
   "metadata": {
    "collapsed": false
   },
   "outputs": [],
   "source": [
    "#用一个多层感知机吧\n",
    "import mxnet.gluon.nn as nn\n",
    "import mxnet\n",
    "\n",
    "net = get_net()\n",
    "# training\n",
    "global_train_loss = []\n",
    "l2loss = gluon.loss.L2Loss()\n",
    "def train_test(net,train_data,train_label,test_data,test_label,learning_rate,wd,epoches,verbose_epoches,batch_size):\n",
    "    #kfold\n",
    "    #net 需要重新初始化\n",
    "    net.collect_params().initialize(force_reinit=True)\n",
    "    dataset_train = gluon.data.ArrayDataset(train_data, train_label)\n",
    "    data_iter_train = gluon.data.DataLoader(dataset_train, batch_size,shuffle=True)\n",
    "    trainer = gluon.Trainer(net.collect_params(),'adam',{'learning_rate':learning_rate,'wd': wd})\n",
    "    train_loss = []\n",
    "    test_loss = []\n",
    "    for epoch in range(epoches):\n",
    "        \n",
    "        rmse = 0.0\n",
    "        for data,label in data_iter_train:\n",
    "            with autograd.record():\n",
    "                output = net(data)\n",
    "                loss = l2loss(output,label)\n",
    "            loss.backward()\n",
    "            trainer.step(batch_size)\n",
    "            cur_train_loss = get_rmse_log(net,train_data,train_label)\n",
    "        \n",
    "        \n",
    "        train_loss.append(cur_train_loss)\n",
    "        cur_test_loss = get_rmse_log(net,test_data,test_label)\n",
    "        if(epoch>verbose_epoches):\n",
    "            print(\"Epoch:%d, training rmse:%f , testing rmse:%f\"%(epoch,cur_train_loss,cur_test_loss))\n",
    "        test_loss.append(cur_test_loss)\n",
    "    plt.plot(train_loss)\n",
    "    plt.legend(['train'])\n",
    "    plt.plot(test_loss)\n",
    "    plt.legend(['train','test'])\n",
    "    plt.show()\n",
    "    return cur_train_loss,cur_test_loss\n",
    "    \n",
    "    \n",
    "\n"
   ]
  },
  {
   "cell_type": "code",
   "execution_count": 9,
   "metadata": {
    "collapsed": false
   },
   "outputs": [],
   "source": [
    "#write k-fold codes\n",
    "from sklearn.model_selection import KFold\n",
    "\n",
    "def kfold_crossvalidation(epoches,verbose_epoches,learning_rate,wd,batch_size):\n",
    "    kf = KFold(n_splits=3)\n",
    "    valid_rmse_all = []\n",
    "    for train_index,test_index in kf.split(train_data):\n",
    "        train_index= nd.array(train_index)\n",
    "        test_index = nd.array(test_index)\n",
    "        train_feat,train_label = nd.take(train_data,train_index),nd.take(label,train_index)\n",
    "        valid_feat,valid_label = nd.take(train_data,test_index),nd.take(label,test_index)\n",
    "        train_rmse,valid_rmse = train_test(net,train_feat,train_label,valid_feat,valid_label,learning_rate,wd,epoches,verbose_epoches,batch_size)\n",
    "        valid_rmse_all.append(valid_rmse)\n",
    "    return np.mean(valid_rmse_all)\n"
   ]
  },
  {
   "cell_type": "code",
   "execution_count": null,
   "metadata": {
    "collapsed": false
   },
   "outputs": [
    {
     "name": "stdout",
     "output_type": "stream",
     "text": [
      "Epoch:98, training rmse:0.034628 , testing rmse:0.038981\n",
      "Epoch:99, training rmse:0.034782 , testing rmse:0.039222\n"
     ]
    },
    {
     "data": {
      "image/png": "[encoded data removed]",
      "text/plain": [
       "<matplotlib.figure.Figure at 0x22fc636bcf8>"
      ]
     },
     "metadata": {},
     "output_type": "display_data"
    }
   ],
   "source": [
    "# tunning parameters\n",
    "\n",
    "batch_size = 100\n",
    "epoches = 100\n",
    "verbose_epoches = 97\n",
    "learning_rate = 0.01\n",
    "wd = 0.1\n",
    "\n",
    "batch_size_params = [50,100,150]\n",
    "epoches_params = [100,150,200]\n",
    "verbose_epoches_params = [98,148,198]\n",
    "learning_rate_params = [0.01,0.05,0.1,0.15]\n",
    "wd_params = [0.1,0.5,1]\n",
    "\n",
    "kfold_rmse = []\n",
    "for i,item in enumerate(learning_rate_params):\n",
    "    learning_rate = item\n",
    "    cur_rmse = kfold_crossvalidation(epoches,verbose_epoches,learning_rate,wd,batch_size)\n",
    "    kfold_rmse.append(cur_rmse)\n",
    "\n",
    "#获取最小的index\n",
    "print('rmse w.r.t different params:')\n",
    "print(kfold_rmse)\n",
    "kfold_rmse = np.array(kfold_rmse)\n",
    "min_index = np.argmin(kfold_rmse)\n",
    "learning_rate = learning_rate_params[min_index]\n",
    "print('best learning_rate: %f'%learning_rate)\n",
    "\n",
    "\n",
    "\n",
    "kfold_rmse = []\n",
    "for i,item in enumerate(wd_params):\n",
    "    wd = item\n",
    "    cur_rmse = kfold_crossvalidation(epoches,verbose_epoches,learning_rate,wd,batch_size)\n",
    "    kfold_rmse.append(cur_rmse)\n",
    "\n",
    "#获取最小的index\n",
    "print('rmse w.r.t different params:')\n",
    "print(kfold_rmse)\n",
    "kfold_rmse = np.array(kfold_rmse)\n",
    "min_index = np.argmin(kfold_rmse)\n",
    "wd = wd_params[min_index]\n",
    "print('best wd: %f'%wd)\n"
   ]
  },
  {
   "cell_type": "code",
   "execution_count": null,
   "metadata": {
    "collapsed": false
   },
   "outputs": [],
   "source": [
    "# predict results\n",
    "submission = pd.read_csv('./input/sample_submission.csv')"
   ]
  },
  {
   "cell_type": "code",
   "execution_count": null,
   "metadata": {
    "collapsed": false
   },
   "outputs": [],
   "source": [
    "submission.head()"
   ]
  },
  {
   "cell_type": "code",
   "execution_count": 139,
   "metadata": {
    "collapsed": false
   },
   "outputs": [
    {
     "name": "stdout",
     "output_type": "stream",
     "text": [
      "1\n"
     ]
    }
   ],
   "source": [
    "a = np.array([1,0,3,4])\n",
    "print(np.argmin(a))\n"
   ]
  },
  {
   "cell_type": "code",
   "execution_count": 120,
   "metadata": {
    "collapsed": false
   },
   "outputs": [
    {
     "data": {
      "text/plain": [
       "0.1"
      ]
     },
     "execution_count": 120,
     "metadata": {},
     "output_type": "execute_result"
    }
   ],
   "source": []
  },
  {
   "cell_type": "code",
   "execution_count": null,
   "metadata": {
    "collapsed": true
   },
   "outputs": [],
   "source": []
  }
 ],
 "metadata": {
  "kernelspec": {
   "display_name": "Python 3",
   "language": "python",
   "name": "python3"
  },
  "language_info": {
   "codemirror_mode": {
    "name": "ipython",
    "version": 3
   },
   "file_extension": ".py",
   "mimetype": "text/x-python",
   "name": "python",
   "nbconvert_exporter": "python",
   "pygments_lexer": "ipython3",
   "version": "3.6.0"
  }
 },
 "nbformat": 4,
 "nbformat_minor": 2
}
