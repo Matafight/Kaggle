{
 "cells": [
  {
   "cell_type": "code",
   "execution_count": 3,
   "metadata": {
    "collapsed": true
   },
   "outputs": [],
   "source": [
    "import xgboost as xgb\n",
    "import pandas as pd\n",
    "import numpy as np"
   ]
  },
  {
   "cell_type": "code",
   "execution_count": 5,
   "metadata": {
    "collapsed": false
   },
   "outputs": [],
   "source": [
    "df_train = pd.read_csv('./input/processed_train.csv')\n",
    "df_test = pd.read_csv('./input/processed_test.csv')\n",
    "target = 'label'\n",
    "feat_data = df_train[df_train.columns[df_train.columns!='label']]\n",
    "feat_names = feat_data.dtypes[feat_data.dtypes!=object].index\n",
    "train_data = df_train[feat_names].values\n",
    "label = df_train['label'].values\n",
    "test_data = df_test.values"
   ]
  },
  {
   "cell_type": "code",
   "execution_count": null,
   "metadata": {
    "collapsed": true
   },
   "outputs": [],
   "source": []
  },
  {
   "cell_type": "code",
   "execution_count": null,
   "metadata": {
    "collapsed": true
   },
   "outputs": [],
   "source": []
  },
  {
   "cell_type": "code",
   "execution_count": 10,
   "metadata": {
    "collapsed": true
   },
   "outputs": [],
   "source": [
    "def train_test(train_data,train_label,test_data,test_label):\n",
    "    #xgb\n",
    "    dtrain = xgb.DMatrix(train_data,label = train_label)\n",
    "    dtest = xgb.DMatrix(test_data,label = test_label)\n",
    "    param = {'max_depth':8, 'eta':1, 'silent':0, 'objective':'reg:linear' }\n",
    "    num_round = 10\n",
    "    watchlist = [(dtrain,'train_loss'),(dtest,'test_loss')]\n",
    "    model =  xgb.train(param,dtrain,num_round,watchlist)\n",
    "    #绘出train_loss的走势图\n",
    "    "
   ]
  },
  {
   "cell_type": "code",
   "execution_count": 12,
   "metadata": {
    "collapsed": false
   },
   "outputs": [
    {
     "name": "stdout",
     "output_type": "stream",
     "text": [
      "[0]\ttrain_loss-rmse:0.40252\ttest_loss-rmse:0.387241\n",
      "[1]\ttrain_loss-rmse:0.118922\ttest_loss-rmse:0.187555\n",
      "[2]\ttrain_loss-rmse:0.091841\ttest_loss-rmse:0.177378\n",
      "[3]\ttrain_loss-rmse:0.074757\ttest_loss-rmse:0.182478\n",
      "[4]\ttrain_loss-rmse:0.067135\ttest_loss-rmse:0.184865\n",
      "[5]\ttrain_loss-rmse:0.05743\ttest_loss-rmse:0.188349\n",
      "[6]\ttrain_loss-rmse:0.053457\ttest_loss-rmse:0.189476\n",
      "[7]\ttrain_loss-rmse:0.042265\ttest_loss-rmse:0.188959\n",
      "[8]\ttrain_loss-rmse:0.036593\ttest_loss-rmse:0.189027\n",
      "[9]\ttrain_loss-rmse:0.031375\ttest_loss-rmse:0.190547\n",
      "[0]\ttrain_loss-rmse:0.392718\ttest_loss-rmse:0.425344\n",
      "[1]\ttrain_loss-rmse:0.116735\ttest_loss-rmse:0.212257\n",
      "[2]\ttrain_loss-rmse:0.082839\ttest_loss-rmse:0.206189\n",
      "[3]\ttrain_loss-rmse:0.060181\ttest_loss-rmse:0.210283\n",
      "[4]\ttrain_loss-rmse:0.053325\ttest_loss-rmse:0.213597\n",
      "[5]\ttrain_loss-rmse:0.043452\ttest_loss-rmse:0.212472\n",
      "[6]\ttrain_loss-rmse:0.038347\ttest_loss-rmse:0.214475\n",
      "[7]\ttrain_loss-rmse:0.03101\ttest_loss-rmse:0.214319\n",
      "[8]\ttrain_loss-rmse:0.029785\ttest_loss-rmse:0.214057\n",
      "[9]\ttrain_loss-rmse:0.0265\ttest_loss-rmse:0.21497\n",
      "[0]\ttrain_loss-rmse:0.396746\ttest_loss-rmse:0.410488\n",
      "[1]\ttrain_loss-rmse:0.117639\ttest_loss-rmse:0.201987\n",
      "[2]\ttrain_loss-rmse:0.087598\ttest_loss-rmse:0.19303\n",
      "[3]\ttrain_loss-rmse:0.062288\ttest_loss-rmse:0.199942\n",
      "[4]\ttrain_loss-rmse:0.054292\ttest_loss-rmse:0.203041\n",
      "[5]\ttrain_loss-rmse:0.047094\ttest_loss-rmse:0.206627\n",
      "[6]\ttrain_loss-rmse:0.03867\ttest_loss-rmse:0.208339\n",
      "[7]\ttrain_loss-rmse:0.033497\ttest_loss-rmse:0.208777\n",
      "[8]\ttrain_loss-rmse:0.028245\ttest_loss-rmse:0.209365\n",
      "[9]\ttrain_loss-rmse:0.024566\ttest_loss-rmse:0.209245\n",
      "[0]\ttrain_loss-rmse:0.403534\ttest_loss-rmse:0.381979\n",
      "[1]\ttrain_loss-rmse:0.121434\ttest_loss-rmse:0.20315\n",
      "[2]\ttrain_loss-rmse:0.094496\ttest_loss-rmse:0.200882\n",
      "[3]\ttrain_loss-rmse:0.077404\ttest_loss-rmse:0.198917\n",
      "[4]\ttrain_loss-rmse:0.06026\ttest_loss-rmse:0.193977\n",
      "[5]\ttrain_loss-rmse:0.049108\ttest_loss-rmse:0.192708\n",
      "[6]\ttrain_loss-rmse:0.044951\ttest_loss-rmse:0.194928\n",
      "[7]\ttrain_loss-rmse:0.0382\ttest_loss-rmse:0.196167\n",
      "[8]\ttrain_loss-rmse:0.028672\ttest_loss-rmse:0.196659\n",
      "[9]\ttrain_loss-rmse:0.020871\ttest_loss-rmse:0.196752\n",
      "[0]\ttrain_loss-rmse:0.401434\ttest_loss-rmse:0.391648\n",
      "[1]\ttrain_loss-rmse:0.112957\ttest_loss-rmse:0.187887\n",
      "[2]\ttrain_loss-rmse:0.080883\ttest_loss-rmse:0.19018\n",
      "[3]\ttrain_loss-rmse:0.060326\ttest_loss-rmse:0.189994\n",
      "[4]\ttrain_loss-rmse:0.053826\ttest_loss-rmse:0.190463\n",
      "[5]\ttrain_loss-rmse:0.043378\ttest_loss-rmse:0.194502\n",
      "[6]\ttrain_loss-rmse:0.037704\ttest_loss-rmse:0.19316\n",
      "[7]\ttrain_loss-rmse:0.02944\ttest_loss-rmse:0.194268\n",
      "[8]\ttrain_loss-rmse:0.024655\ttest_loss-rmse:0.193396\n",
      "[9]\ttrain_loss-rmse:0.022829\ttest_loss-rmse:0.193145\n"
     ]
    }
   ],
   "source": [
    "#write k-fold codes\n",
    "from sklearn.model_selection import KFold\n",
    "\n",
    "kf = KFold(n_splits=5)\n",
    "for train_index,test_index in kf.split(train_data):\n",
    "    train_feat,train_label = train_data[train_index],label[train_index]\n",
    "    valid_feat,valid_label = train_data[test_index],label[test_index]\n",
    "\n",
    "    train_test(train_feat,train_label,valid_feat,valid_label)\n",
    "#     print(train_rmse)\n",
    "#     print(valid_rmse)"
   ]
  },
  {
   "cell_type": "code",
   "execution_count": null,
   "metadata": {
    "collapsed": true
   },
   "outputs": [],
   "source": []
  }
 ],
 "metadata": {
  "kernelspec": {
   "display_name": "Python 3",
   "language": "python",
   "name": "python3"
  },
  "language_info": {
   "codemirror_mode": {
    "name": "ipython",
    "version": 3
   },
   "file_extension": ".py",
   "mimetype": "text/x-python",
   "name": "python",
   "nbconvert_exporter": "python",
   "pygments_lexer": "ipython3",
   "version": "3.6.0"
  }
 },
 "nbformat": 4,
 "nbformat_minor": 2
}
