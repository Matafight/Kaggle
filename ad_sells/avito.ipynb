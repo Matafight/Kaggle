{
 "cells": [
  {
   "cell_type": "code",
   "execution_count": 2,
   "metadata": {
    "_cell_guid": "b1076dfc-b9ad-4769-8c92-a6c4dae69d19",
    "_uuid": "8f2839f25d086af736a60e9eeb907d3b93b6e0e5"
   },
   "outputs": [
    {
     "name": "stdout",
     "output_type": "stream",
     "text": [
      "['test.csv', 'train.csv']\n"
     ]
    }
   ],
   "source": [
    "# This Python 3 environment comes with many helpful analytics libraries installed\n",
    "# It is defined by the kaggle/python docker image: https://github.com/kaggle/docker-python\n",
    "# For example, here's several helpful packages to load in \n",
    "\n",
    "import numpy as np # linear algebra\n",
    "import pandas as pd # data processing, CSV file I/O (e.g. pd.read_csv)\n",
    "\n",
    "# Input data files are available in the \"../input/\" directory.\n",
    "# For example, running this (by clicking run or pressing Shift+Enter) will list the files in the input directory\n",
    "\n",
    "import os\n",
    "print(os.listdir(\"./input\"))\n",
    "\n",
    "train_path = './input/train.csv' \n",
    "test_path = './input/test.csv'\n",
    "train_df = pd.read_csv(train_path,parse_dates=['activation_date'])\n",
    "trainde=train_df.index\n",
    "\n",
    "test_df = pd.read_csv(test_path,parse_dates = ['activation_date'])\n",
    "testdex=test_df.index\n",
    "#train_df = train_df.sort_values(by='activation_date')\n",
    "# Any results you write to the current directory are saved as output.\n",
    "\n",
    "\n",
    "\n"
   ]
  },
  {
   "cell_type": "code",
   "execution_count": 4,
   "metadata": {
    "_cell_guid": "79c7e3d0-c299-4dcb-8224-4455121ee9b0",
    "_uuid": "d629ff2d2480ee46fbb7e2d37f6b5fab8052498a"
   },
   "outputs": [],
   "source": [
    "y = train_df['deal_probability']"
   ]
  },
  {
   "cell_type": "code",
   "execution_count": 5,
   "metadata": {
    "_uuid": "d5e01b998d21ff8a22c655d7f93f0518a1ed8f34"
   },
   "outputs": [
    {
     "data": {
      "text/plain": [
       "(array([1054761.,  118059.,   84894.,   41728.,   21969.,   13387.,\n",
       "           5582.,   66292.,   86676.,   10076.]),\n",
       " array([0. , 0.1, 0.2, 0.3, 0.4, 0.5, 0.6, 0.7, 0.8, 0.9, 1. ]),\n",
       " <a list of 10 Patch objects>)"
      ]
     },
     "execution_count": 5,
     "metadata": {},
     "output_type": "execute_result"
    },
    {
     "data": {
      "image/png": "[encoded data removed]",
      "text/plain": [
       "<matplotlib.figure.Figure at 0x10ad153c8>"
      ]
     },
     "metadata": {},
     "output_type": "display_data"
    }
   ],
   "source": [
    "import matplotlib.pyplot as plt\n",
    "%matplotlib inline\n",
    "plt.hist(y)"
   ]
  },
  {
   "cell_type": "code",
   "execution_count": 6,
   "metadata": {
    "_uuid": "044c56015f868604d665d597c8a2eab6477975d2"
   },
   "outputs": [
    {
     "data": {
      "text/plain": [
       "34"
      ]
     },
     "execution_count": 6,
     "metadata": {},
     "output_type": "execute_result"
    }
   ],
   "source": [
    "#combine train and test\n",
    "df = pd.concat([train_df,test_df],axis=0)\n",
    "del train_df,test_df\n",
    "import gc\n",
    "gc.collect()"
   ]
  },
  {
   "cell_type": "code",
   "execution_count": 7,
   "metadata": {
    "_uuid": "65675dbeca0caf9e3b51d3129b62980f3dd5a983"
   },
   "outputs": [
    {
     "name": "stdout",
     "output_type": "stream",
     "text": [
      "Feature Engineering\n"
     ]
    }
   ],
   "source": [
    "\n",
    "print(\"Feature Engineering\")\n",
    "df[\"price\"] = np.log(df[\"price\"]+0.001)\n",
    "df[\"price\"].fillna(-999,inplace=True)\n",
    "df[\"image_top_1\"].fillna(-999,inplace=True)\n"
   ]
  },
  {
   "cell_type": "code",
   "execution_count": 8,
   "metadata": {
    "_uuid": "c186e2097b4ffac11e0fe70f915d97382bf24edc"
   },
   "outputs": [],
   "source": [
    "df.drop([\"image\"],axis=1,inplace=True)\n",
    "\n"
   ]
  },
  {
   "cell_type": "code",
   "execution_count": 9,
   "metadata": {
    "_uuid": "bde131ca9de68ace9ac354855422b446bbdd8a8b"
   },
   "outputs": [
    {
     "name": "stdout",
     "output_type": "stream",
     "text": [
      "\n",
      "Encode Variables\n",
      "Encoding : ['user_id', 'region', 'city', 'parent_category_name', 'category_name', 'item_seq_number', 'user_type', 'image_top_1']\n"
     ]
    }
   ],
   "source": [
    "print(\"\\nEncode Variables\")\n",
    "categorical = [\"user_id\",\"region\",\"city\",\"parent_category_name\",\"category_name\",\"item_seq_number\",\"user_type\",\"image_top_1\"]\n",
    "print(\"Encoding :\",categorical)"
   ]
  },
  {
   "cell_type": "code",
   "execution_count": 10,
   "metadata": {
    "_uuid": "d6a102a2b438755b732f53c173ec0f8aba00b49f"
   },
   "outputs": [],
   "source": [
    "\n",
    "from sklearn import preprocessing\n",
    "\n",
    "from sklearn.feature_extraction.text import CountVectorizer, TfidfVectorizer\n",
    "from sklearn.pipeline import FeatureUnion\n",
    "from scipy.sparse import hstack, csr_matrix\n",
    "from nltk.corpus import stopwords \n"
   ]
  },
  {
   "cell_type": "code",
   "execution_count": 11,
   "metadata": {
    "_uuid": "0680c9ef078182a35444d1cdf8203a925613c06d"
   },
   "outputs": [
    {
     "name": "stdout",
     "output_type": "stream",
     "text": [
      "\n",
      "Text Features\n"
     ]
    }
   ],
   "source": [
    "# Encoder:\n",
    "lbl = preprocessing.LabelEncoder()\n",
    "for col in categorical:\n",
    "    df[col] = lbl.fit_transform(df[col].astype(str))\n",
    "    \n",
    "print(\"\\nText Features\")\n",
    "\n",
    "# Feature Engineering \n",
    "df['text_feat'] = df.apply(lambda row: ' '.join([\n",
    "    str(row['param_1']), \n",
    "    str(row['param_2']), \n",
    "    str(row['param_3'])]),axis=1) # Group Param Features\n",
    "df.drop([\"param_1\",\"param_2\",\"param_3\"],axis=1,inplace=True)\n"
   ]
  },
  {
   "cell_type": "code",
   "execution_count": 12,
   "metadata": {
    "_uuid": "9fa4b09e81b9aab970c978026431c5637ffd7ace"
   },
   "outputs": [],
   "source": [
    "# meta  text features\n",
    "textfeats =['title','description','text_feat']\n",
    "for col in textfeats:\n",
    "    df[col] = df[col].astype('str')\n",
    "    df[col] = df[col].fillna('null')\n",
    "    df[col] = df[col].str.lower()\n",
    "    df[col+'num_chars'] = df[col].apply(lambda comment:len(comment))\n",
    "    df[col+'num_words'] = df[col].apply(lambda comment: len(comment.split()))\n",
    "    df[col+'unique_words'] = df[col].apply(lambda comment: len(set(comment.split())))\n",
    "    df[col+'unique_vs_num_words'] = df[col+'unique_words']/df[col+'num_words']*100"
   ]
  },
  {
   "cell_type": "code",
   "execution_count": 13,
   "metadata": {
    "_uuid": "1f1144e3de13f90f0e49c8c4d324ecb954db56bb"
   },
   "outputs": [
    {
     "data": {
      "text/html": [
       "<div>\n",
       "<style scoped>\n",
       "    .dataframe tbody tr th:only-of-type {\n",
       "        vertical-align: middle;\n",
       "    }\n",
       "\n",
       "    .dataframe tbody tr th {\n",
       "        vertical-align: top;\n",
       "    }\n",
       "\n",
       "    .dataframe thead th {\n",
       "        text-align: right;\n",
       "    }\n",
       "</style>\n",
       "<table border=\"1\" class=\"dataframe\">\n",
       "  <thead>\n",
       "    <tr style=\"text-align: right;\">\n",
       "      <th></th>\n",
       "      <th>activation_date</th>\n",
       "      <th>category_name</th>\n",
       "      <th>city</th>\n",
       "      <th>deal_probability</th>\n",
       "      <th>description</th>\n",
       "      <th>image_top_1</th>\n",
       "      <th>item_id</th>\n",
       "      <th>item_seq_number</th>\n",
       "      <th>parent_category_name</th>\n",
       "      <th>price</th>\n",
       "      <th>...</th>\n",
       "      <th>titleunique_words</th>\n",
       "      <th>titleunique_vs_num_words</th>\n",
       "      <th>descriptionnum_chars</th>\n",
       "      <th>descriptionnum_words</th>\n",
       "      <th>descriptionunique_words</th>\n",
       "      <th>descriptionunique_vs_num_words</th>\n",
       "      <th>text_featnum_chars</th>\n",
       "      <th>text_featnum_words</th>\n",
       "      <th>text_featunique_words</th>\n",
       "      <th>text_featunique_vs_num_words</th>\n",
       "    </tr>\n",
       "  </thead>\n",
       "  <tbody>\n",
       "    <tr>\n",
       "      <th>0</th>\n",
       "      <td>2017-03-28</td>\n",
       "      <td>42</td>\n",
       "      <td>462</td>\n",
       "      <td>0.12789</td>\n",
       "      <td>кокон для сна малыша,пользовались меньше месяц...</td>\n",
       "      <td>13</td>\n",
       "      <td>b912c3c6a6ad</td>\n",
       "      <td>9108</td>\n",
       "      <td>4</td>\n",
       "      <td>5.991467</td>\n",
       "      <td>...</td>\n",
       "      <td>3</td>\n",
       "      <td>100.0</td>\n",
       "      <td>58</td>\n",
       "      <td>7</td>\n",
       "      <td>7</td>\n",
       "      <td>100.0</td>\n",
       "      <td>33</td>\n",
       "      <td>4</td>\n",
       "      <td>3</td>\n",
       "      <td>75.000000</td>\n",
       "    </tr>\n",
       "    <tr>\n",
       "      <th>1</th>\n",
       "      <td>2017-03-26</td>\n",
       "      <td>22</td>\n",
       "      <td>1314</td>\n",
       "      <td>0.00000</td>\n",
       "      <td>стойка для одежды, под вешалки. с бутика.</td>\n",
       "      <td>2723</td>\n",
       "      <td>2dac0150717d</td>\n",
       "      <td>8389</td>\n",
       "      <td>2</td>\n",
       "      <td>8.006368</td>\n",
       "      <td>...</td>\n",
       "      <td>3</td>\n",
       "      <td>100.0</td>\n",
       "      <td>41</td>\n",
       "      <td>7</td>\n",
       "      <td>7</td>\n",
       "      <td>100.0</td>\n",
       "      <td>14</td>\n",
       "      <td>3</td>\n",
       "      <td>2</td>\n",
       "      <td>66.666667</td>\n",
       "    </tr>\n",
       "    <tr>\n",
       "      <th>2</th>\n",
       "      <td>2017-03-20</td>\n",
       "      <td>2</td>\n",
       "      <td>1290</td>\n",
       "      <td>0.43177</td>\n",
       "      <td>в хорошем состоянии, домашний кинотеатр с blu ...</td>\n",
       "      <td>2260</td>\n",
       "      <td>ba83aefab5dc</td>\n",
       "      <td>32856</td>\n",
       "      <td>0</td>\n",
       "      <td>8.294050</td>\n",
       "      <td>...</td>\n",
       "      <td>2</td>\n",
       "      <td>100.0</td>\n",
       "      <td>99</td>\n",
       "      <td>17</td>\n",
       "      <td>17</td>\n",
       "      <td>100.0</td>\n",
       "      <td>35</td>\n",
       "      <td>7</td>\n",
       "      <td>6</td>\n",
       "      <td>85.714286</td>\n",
       "    </tr>\n",
       "    <tr>\n",
       "      <th>3</th>\n",
       "      <td>2017-03-25</td>\n",
       "      <td>42</td>\n",
       "      <td>950</td>\n",
       "      <td>0.80323</td>\n",
       "      <td>продам кресло от0-25кг</td>\n",
       "      <td>2838</td>\n",
       "      <td>02996f1dd2ea</td>\n",
       "      <td>14637</td>\n",
       "      <td>4</td>\n",
       "      <td>7.696213</td>\n",
       "      <td>...</td>\n",
       "      <td>1</td>\n",
       "      <td>100.0</td>\n",
       "      <td>22</td>\n",
       "      <td>3</td>\n",
       "      <td>3</td>\n",
       "      <td>100.0</td>\n",
       "      <td>28</td>\n",
       "      <td>4</td>\n",
       "      <td>3</td>\n",
       "      <td>75.000000</td>\n",
       "    </tr>\n",
       "    <tr>\n",
       "      <th>4</th>\n",
       "      <td>2017-03-16</td>\n",
       "      <td>0</td>\n",
       "      <td>318</td>\n",
       "      <td>0.20797</td>\n",
       "      <td>все вопросы по телефону.</td>\n",
       "      <td>1408</td>\n",
       "      <td>7c90be56d2ab</td>\n",
       "      <td>15299</td>\n",
       "      <td>6</td>\n",
       "      <td>10.596635</td>\n",
       "      <td>...</td>\n",
       "      <td>3</td>\n",
       "      <td>100.0</td>\n",
       "      <td>24</td>\n",
       "      <td>4</td>\n",
       "      <td>4</td>\n",
       "      <td>100.0</td>\n",
       "      <td>26</td>\n",
       "      <td>5</td>\n",
       "      <td>5</td>\n",
       "      <td>100.000000</td>\n",
       "    </tr>\n",
       "  </tbody>\n",
       "</table>\n",
       "<p>5 rows × 27 columns</p>\n",
       "</div>"
      ],
      "text/plain": [
       "  activation_date  category_name  city  deal_probability  \\\n",
       "0      2017-03-28             42   462           0.12789   \n",
       "1      2017-03-26             22  1314           0.00000   \n",
       "2      2017-03-20              2  1290           0.43177   \n",
       "3      2017-03-25             42   950           0.80323   \n",
       "4      2017-03-16              0   318           0.20797   \n",
       "\n",
       "                                         description  image_top_1  \\\n",
       "0  кокон для сна малыша,пользовались меньше месяц...           13   \n",
       "1          стойка для одежды, под вешалки. с бутика.         2723   \n",
       "2  в хорошем состоянии, домашний кинотеатр с blu ...         2260   \n",
       "3                             продам кресло от0-25кг         2838   \n",
       "4                           все вопросы по телефону.         1408   \n",
       "\n",
       "        item_id  item_seq_number  parent_category_name      price  \\\n",
       "0  b912c3c6a6ad             9108                     4   5.991467   \n",
       "1  2dac0150717d             8389                     2   8.006368   \n",
       "2  ba83aefab5dc            32856                     0   8.294050   \n",
       "3  02996f1dd2ea            14637                     4   7.696213   \n",
       "4  7c90be56d2ab            15299                     6  10.596635   \n",
       "\n",
       "               ...               titleunique_words titleunique_vs_num_words  \\\n",
       "0              ...                               3                    100.0   \n",
       "1              ...                               3                    100.0   \n",
       "2              ...                               2                    100.0   \n",
       "3              ...                               1                    100.0   \n",
       "4              ...                               3                    100.0   \n",
       "\n",
       "   descriptionnum_chars  descriptionnum_words descriptionunique_words  \\\n",
       "0                    58                     7                       7   \n",
       "1                    41                     7                       7   \n",
       "2                    99                    17                      17   \n",
       "3                    22                     3                       3   \n",
       "4                    24                     4                       4   \n",
       "\n",
       "   descriptionunique_vs_num_words  text_featnum_chars  text_featnum_words  \\\n",
       "0                           100.0                  33                   4   \n",
       "1                           100.0                  14                   3   \n",
       "2                           100.0                  35                   7   \n",
       "3                           100.0                  28                   4   \n",
       "4                           100.0                  26                   5   \n",
       "\n",
       "   text_featunique_words  text_featunique_vs_num_words  \n",
       "0                      3                     75.000000  \n",
       "1                      2                     66.666667  \n",
       "2                      6                     85.714286  \n",
       "3                      3                     75.000000  \n",
       "4                      5                    100.000000  \n",
       "\n",
       "[5 rows x 27 columns]"
      ]
     },
     "execution_count": 13,
     "metadata": {},
     "output_type": "execute_result"
    }
   ],
   "source": [
    "df.head()"
   ]
  },
  {
   "cell_type": "code",
   "execution_count": 14,
   "metadata": {
    "_uuid": "b05069767fdc06e2c7377e93802ab5f9945e2db1"
   },
   "outputs": [],
   "source": [
    "stopwords_russ = stopwords.words('russian')\n",
    "tfidf_params={\n",
    "    'analyzer':'word',\n",
    "    'tokenizer':'r\\w{1,}',\n",
    "    'stop_words':stopwords_russ,\n",
    "    'norm':'l2'\n",
    "}\n",
    "def get_col(colname):\n",
    "    return lambda x:x[colname]\n",
    "\n",
    "fu = FeatureUnion([\n",
    "    ('title',TfidfVectorizer(**tfidf_params, max_features=500,ngram_range=(1,2),preprocessor = get_col('title'))),\n",
    "    ('description',TfidfVectorizer(**tfidf_params,ngram_range=(1,2),max_features=1500,preprocessor = get_col('description'))),\n",
    "     ('text_feat',TfidfVectorizer(**tfidf_params,ngram_range=(1,2),max_features=1500,preprocessor = get_col('text_feat')))\n",
    "                 ])"
   ]
  },
  {
   "cell_type": "code",
   "execution_count": null,
   "metadata": {
    "_uuid": "f427c05df7c44b23c72251f6ab98818746d5a912"
   },
   "outputs": [],
   "source": []
  },
  {
   "cell_type": "code",
   "execution_count": 15,
   "metadata": {
    "_uuid": "2d74773e3c5d2a253fcf4eea45c6cb49ac118d8c"
   },
   "outputs": [],
   "source": [
    "converter_title= TfidfVectorizer(analyzer='word',\n",
    "                                 max_features=500,\n",
    "                                 stop_words=stopwords_russ,\n",
    "                                 ngram_range=(1,2),\n",
    "                                 preprocessor=lambda x:x\n",
    "                                )\n",
    "tfidf_title= converter_title.fit_transform(df['title'])"
   ]
  },
  {
   "cell_type": "code",
   "execution_count": 15,
   "metadata": {
    "_uuid": "b0d73c81483d16d57d3edf8d8e539b8142e55f73",
    "collapsed": true
   },
   "outputs": [],
   "source": [
    "converter_desc= TfidfVectorizer(analyzer='word',\n",
    "                                 max_features=500,\n",
    "                                 stop_words=stopwords_russ,\n",
    "                                 ngram_range=(1,2),\n",
    "                                 preprocessor=lambda x:x\n",
    "                                )\n",
    "tfidf_desc= converter_desc.fit_transform(df['description'])"
   ]
  },
  {
   "cell_type": "code",
   "execution_count": 16,
   "metadata": {
    "_uuid": "995403104e1956094a4d2045422abc6fb14c0f94",
    "collapsed": true
   },
   "outputs": [],
   "source": [
    "converter_text_feat = TfidfVectorizer(analyzer='word',\n",
    "                                      max_features = 500,\n",
    "                                      stop_words = stopwords_russ,\n",
    "                                      ngram_range=(1,2),\n",
    "                                      preprocessor= lambda x:x\n",
    "                                      )\n",
    "tfidf_textfeat=converter_text_feat.fit_transform(df['text_feat'])"
   ]
  },
  {
   "cell_type": "code",
   "execution_count": 23,
   "metadata": {
    "_uuid": "719aa5e0db9029f1a23e6c010b0218616738402c",
    "collapsed": true
   },
   "outputs": [],
   "source": [
    "# 拼接各个features\n",
    "traindex = trainde\n"
   ]
  },
  {
   "cell_type": "code",
   "execution_count": 31,
   "metadata": {
    "_uuid": "ea893117528668fa66e48f81aaf77727ef7d38d6",
    "collapsed": true
   },
   "outputs": [],
   "source": [
    "df.drop(textfeats,axis=1,inplace=True)"
   ]
  },
  {
   "cell_type": "code",
   "execution_count": 33,
   "metadata": {
    "_uuid": "d0aad725387eb1022418dabeca9b395d7b3bfcb3",
    "collapsed": true
   },
   "outputs": [],
   "source": [
    "df.drop('item_id',axis=1,inplace=True)"
   ]
  },
  {
   "cell_type": "code",
   "execution_count": 35,
   "metadata": {
    "_uuid": "648202b8ff26931a9772d71277ad6d2a2d5fb872",
    "collapsed": true
   },
   "outputs": [],
   "source": [
    "df.drop('activation_date',axis=1,inplace=True)"
   ]
  },
  {
   "cell_type": "code",
   "execution_count": 36,
   "metadata": {
    "_uuid": "3a9dba9fde723d0aff43e69fe81a8f0ff870887b",
    "collapsed": true
   },
   "outputs": [],
   "source": [
    "df.shape"
   ]
  },
  {
   "cell_type": "code",
   "execution_count": 41,
   "metadata": {
    "_uuid": "492208136425e3f92f4adb7de18784bf322f0d14",
    "collapsed": true
   },
   "outputs": [],
   "source": [
    "df_concated  = hstack([csr_matrix(df.values),tfidf_desc,tfidf_textfeat,tfidf_title])"
   ]
  },
  {
   "cell_type": "code",
   "execution_count": 44,
   "metadata": {
    "_uuid": "526fff51f4fcb28dc7ca0ac59c56dc87596c1bdb",
    "collapsed": true
   },
   "outputs": [],
   "source": [
    "# modelling stage"
   ]
  },
  {
   "cell_type": "code",
   "execution_count": 46,
   "metadata": {
    "_uuid": "a6987bd0f2ca61ab6083e20ed8c72b2ee46c34c3",
    "collapsed": true
   },
   "outputs": [],
   "source": []
  },
  {
   "cell_type": "code",
   "execution_count": null,
   "metadata": {
    "_uuid": "211221362ed42905d7700403e729b84dabe7f1d9",
    "collapsed": true
   },
   "outputs": [],
   "source": [
    "\n"
   ]
  }
 ],
 "metadata": {
  "kernelspec": {
   "display_name": "Python 3",
   "language": "python",
   "name": "python3"
  },
  "language_info": {
   "codemirror_mode": {
    "name": "ipython",
    "version": 3
   },
   "file_extension": ".py",
   "mimetype": "text/x-python",
   "name": "python",
   "nbconvert_exporter": "python",
   "pygments_lexer": "ipython3",
   "version": "3.6.4"
  }
 },
 "nbformat": 4,
 "nbformat_minor": 1
}
